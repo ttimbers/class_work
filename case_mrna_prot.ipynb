{
 "cells": [
  {
   "cell_type": "markdown",
   "metadata": {
    "slideshow": {
     "slide_type": "slide"
    }
   },
   "source": [
    "# STAT 450: Case Studies in Statistics"
   ]
  },
  {
   "cell_type": "markdown",
   "metadata": {
    "slideshow": {
     "slide_type": "subslide"
    }
   },
   "source": [
    "## Case study: relation between mRNA and protein levels\n",
    "\n",
    "The picture illustrates what is known as the Central Dogma of Biology\n"
   ]
  },
  {
   "cell_type": "markdown",
   "metadata": {
    "slideshow": {
     "slide_type": "slide"
    }
   },
   "source": [
    "![](prot_gene.png)"
   ]
  },
  {
   "cell_type": "markdown",
   "metadata": {
    "slideshow": {
     "slide_type": "slide"
    }
   },
   "source": [
    "Despite expectations of a high correlation between mRNA and protein levels, experimental results have shown very low correlation values\n",
    "\n",
    "Many research groups have investigated the relation between mRNA and protein levels. \n",
    "\n",
    "In 2014, a research group claimed to find a \"predictive model\", which can be used to predict protein from mRNA!!\n",
    "\n",
    "We'll use data from this group submitted to the Journal as if it is \"our client's data\"\n"
   ]
  },
  {
   "cell_type": "markdown",
   "metadata": {
    "slideshow": {
     "slide_type": "slide"
    }
   },
   "source": [
    "### Claim\n",
    "\n",
    "Using the median ratio of protein to mRNA levels per gene as a proxy for translation rates, our data show that [...] ***it now becomes possible to predict protein abundance in any given tissue with good accuracy from the measured mRNA abundance***\n",
    "\n",
    "### Question\n",
    "\n",
    "- Is our analysis statistically correct?\n",
    "\n",
    "- Is there another way to analyze the data? If so, do we get similar results?"
   ]
  },
  {
   "cell_type": "markdown",
   "metadata": {
    "slideshow": {
     "slide_type": "slide"
    }
   },
   "source": [
    "\n",
    "![](nature_res.png)"
   ]
  },
  {
   "cell_type": "markdown",
   "metadata": {
    "slideshow": {
     "slide_type": "slide"
    }
   },
   "source": [
    "# Let's take a look at their data\n",
    "\n",
    "### Can we reproduce their analysis?\n",
    "\n",
    "### Do we get the same conclusions?"
   ]
  },
  {
   "cell_type": "markdown",
   "metadata": {
    "slideshow": {
     "slide_type": "slide"
    }
   },
   "source": [
    "## From The Art of Data Science (by Peng and Matsui)\n",
    "\n",
    "### Exploratory Data Analysis: Checklist\n",
    "\n",
    "1. Formulate your question\n",
    "2. Read in your data\n",
    "3. Check the packaging"
   ]
  },
  {
   "cell_type": "markdown",
   "metadata": {
    "slideshow": {
     "slide_type": "slide"
    }
   },
   "source": [
    "### Checklist for The Art of Data Science (cont.)\n",
    "\n",
    "\n",
    "4. Look at the top and the bottom of your data\n",
    "5. Check your “n”s\n",
    "6. Validate with at least one external data source\n",
    "7. Make a plot\n",
    "8. Try the easy solution first\n",
    "9. Follow up"
   ]
  },
  {
   "cell_type": "code",
   "execution_count": 1,
   "metadata": {
    "scrolled": false,
    "slideshow": {
     "slide_type": "slide"
    }
   },
   "outputs": [
    {
     "name": "stderr",
     "output_type": "stream",
     "text": [
      "── \u001b[1mAttaching packages\u001b[22m ─────────────────────────────────────── tidyverse 1.2.1 ──\n",
      "\u001b[32m✔\u001b[39m \u001b[34mggplot2\u001b[39m 3.2.1     \u001b[32m✔\u001b[39m \u001b[34mpurrr  \u001b[39m 0.3.2\n",
      "\u001b[32m✔\u001b[39m \u001b[34mtibble \u001b[39m 2.1.3     \u001b[32m✔\u001b[39m \u001b[34mdplyr  \u001b[39m 0.8.3\n",
      "\u001b[32m✔\u001b[39m \u001b[34mtidyr  \u001b[39m 1.0.0     \u001b[32m✔\u001b[39m \u001b[34mstringr\u001b[39m 1.4.0\n",
      "\u001b[32m✔\u001b[39m \u001b[34mreadr  \u001b[39m 1.3.1     \u001b[32m✔\u001b[39m \u001b[34mforcats\u001b[39m 0.4.0\n",
      "── \u001b[1mConflicts\u001b[22m ────────────────────────────────────────── tidyverse_conflicts() ──\n",
      "\u001b[31m✖\u001b[39m \u001b[34mdplyr\u001b[39m::\u001b[32mfilter()\u001b[39m masks \u001b[34mstats\u001b[39m::filter()\n",
      "\u001b[31m✖\u001b[39m \u001b[34mdplyr\u001b[39m::\u001b[32mlag()\u001b[39m    masks \u001b[34mstats\u001b[39m::lag()\n"
     ]
    }
   ],
   "source": [
    "library(tidyverse)\n",
    "#library(repr)\n",
    "#options(repr.plot.width=7, repr.plot.height=4)\n",
    "library(ggplot2)\n",
    "library(broom)\n",
    "#library(gridExtra)\n",
    "#library(GGally)\n",
    "\n",
    "prot <- data.matrix(read.csv(\"proteinUN.csv\", row.names = 1))\n",
    "mrna <- data.matrix(read.csv(\"geneUN.csv\", row.names = 1))\n",
    "tissues <- colnames(mrna)\n",
    "genes <- proteins <-rownames(prot)"
   ]
  },
  {
   "cell_type": "code",
   "execution_count": 33,
   "metadata": {
    "slideshow": {
     "slide_type": "skip"
    }
   },
   "outputs": [],
   "source": [
    "#quick checks\n",
    "stopifnot(all(colnames(prot) == colnames(mrna)))\n",
    "stopifnot(all(rownames(prot) == rownames(mrna)))"
   ]
  },
  {
   "cell_type": "markdown",
   "metadata": {
    "slideshow": {
     "slide_type": "slide"
    }
   },
   "source": [
    "# Exploring the data\n",
    "\n",
    "- What is the dimension of this dataset?\n",
    "\n",
    "- How many genes have been measured? How many tissues?\n",
    "\n",
    "- What kind of variables are present in this dataset (factor?, numeric?)\n",
    "\n",
    "- Are there missing values? \n",
    "\n",
    "- If you find missing values in a gene, are both the mRNA and the protein levels missing for that gene? \n",
    "\n",
    "- Is the proportion of missing values the same in all genes?"
   ]
  },
  {
   "cell_type": "markdown",
   "metadata": {
    "scrolled": true,
    "slideshow": {
     "slide_type": "slide"
    }
   },
   "source": [
    "### Understanding missing values\n",
    "\n",
    "- Count how many genes have K number of missing values (mRNA or protein) for $K=0, \\ldots, 12$\n",
    "\n",
    "\n",
    "- Make a plot that illustrates your analysis\n",
    "\n",
    "\n",
    "- Is the correlation between mRNA and protein affected by the number of missing values?\n",
    "\n",
    "\n",
    "- For genes with more than 9 complete pairs, what is the distribution of the correlation values between mRNA and protein? \n",
    "\n",
    "\n",
    "- For a gene with complete data, illustrate the relation between mRNA and protein"
   ]
  },
  {
   "cell_type": "markdown",
   "metadata": {
    "slideshow": {
     "slide_type": "slide"
    }
   },
   "source": [
    "## The proposed predicted method\n",
    "\n",
    "### For each gene $j$ the predicted protein level in the $i$-th tissue is given by \n",
    "\n",
    "### $$\\hat{p}_{ij} = \\hat{r}_j * \\text{mRNA}_{ij}, \\; \\hat{r}_j \\text{ is the j-th ratio}$$\n",
    "\n",
    "### <font color=\"blue\"> Is this a linear regression?? </font>"
   ]
  },
  {
   "cell_type": "markdown",
   "metadata": {
    "slideshow": {
     "slide_type": "slide"
    }
   },
   "source": [
    "### [class discussion]"
   ]
  }
 ],
 "metadata": {
  "celltoolbar": "Slideshow",
  "kernelspec": {
   "display_name": "R",
   "language": "R",
   "name": "ir"
  },
  "language_info": {
   "codemirror_mode": "r",
   "file_extension": ".r",
   "mimetype": "text/x-r-source",
   "name": "R",
   "pygments_lexer": "r",
   "version": "3.6.1"
  }
 },
 "nbformat": 4,
 "nbformat_minor": 2
}
